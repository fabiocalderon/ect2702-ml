{
  "nbformat": 4,
  "nbformat_minor": 0,
  "metadata": {
    "colab": {
      "name": "SOM.ipynb",
      "version": "0.3.2",
      "provenance": [],
      "include_colab_link": true
    },
    "kernelspec": {
      "name": "python3",
      "display_name": "Python 3"
    }
  },
  "cells": [
    {
      "cell_type": "markdown",
      "metadata": {
        "id": "view-in-github",
        "colab_type": "text"
      },
      "source": [
        "<a href=\"https://colab.research.google.com/github/fabiocalderon/ect2702-ml/blob/master/SOM.ipynb\" target=\"_parent\"><img src=\"https://colab.research.google.com/assets/colab-badge.svg\" alt=\"Open In Colab\"/></a>"
      ]
    },
    {
      "metadata": {
        "id": "IBg4DNrmjIYq",
        "colab_type": "code",
        "colab": {}
      },
      "cell_type": "code",
      "source": [
        "# SOM\n",
        "# from https://www.superdatascience.com/deep-learning/ \n",
        "\n",
        "\n",
        "# Importing the libraries\n",
        "import numpy as np\n",
        "import matplotlib.pyplot as plt\n",
        "import pandas as pd"
      ],
      "execution_count": 0,
      "outputs": []
    },
    {
      "metadata": {
        "id": "00IH3WDBjzru",
        "colab_type": "code",
        "outputId": "98271675-2611-4e31-f9f5-46c7a671c96a",
        "colab": {
          "base_uri": "https://localhost:8080/",
          "height": 153
        }
      },
      "cell_type": "code",
      "source": [
        "# Install MiniSOM\n",
        "# https://github.com/JustGlowing/minisom \n",
        "!pip install minisom"
      ],
      "execution_count": 4,
      "outputs": [
        {
          "output_type": "stream",
          "text": [
            "Collecting minisom\n",
            "  Downloading https://files.pythonhosted.org/packages/d3/de/79460293f5b3b69371832f50419820162b30a12c929d02543df3b4ff3d41/MiniSom-2.1.4.tar.gz\n",
            "Building wheels for collected packages: minisom\n",
            "  Running setup.py bdist_wheel for minisom ... \u001b[?25l-\b \bdone\n",
            "\u001b[?25h  Stored in directory: /root/.cache/pip/wheels/4a/5c/75/d21b1b07292ccd8720a8076304f793031e016c16e9c8eacbf9\n",
            "Successfully built minisom\n",
            "Installing collected packages: minisom\n",
            "Successfully installed minisom-2.1.4\n"
          ],
          "name": "stdout"
        }
      ]
    },
    {
      "metadata": {
        "id": "QgR2cDe_kSLS",
        "colab_type": "code",
        "outputId": "3cd76c7a-982c-459d-a281-1a0439b1c01e",
        "colab": {
          "base_uri": "https://localhost:8080/",
          "height": 34
        }
      },
      "cell_type": "code",
      "source": [
        "# Getting Data\n",
        "import os\n",
        "import tarfile\n",
        "from six.moves import urllib\n",
        "\n",
        "FILE_TO_DOWNLOAD =  \"50_Startups.csv\"\n",
        "DOWNLOAD_ROOT = \"https://github.com/ect-info/ml/raw/master/\"\n",
        "DATA_PATH = \"dados/\"\n",
        "DATA_URL = DOWNLOAD_ROOT + DATA_PATH + FILE_TO_DOWNLOAD\n",
        "\n",
        "def fetch_data(data_url=DATA_URL, data_path=DATA_PATH, file_to_download=FILE_TO_DOWNLOAD):\n",
        "  if not os.path.isdir(data_path):\n",
        "    os.makedirs(data_path)\n",
        "  urllib.request.urlretrieve(data_url, data_path+file_to_download)\n",
        "  \n",
        "  \n",
        "fetch_data()\n",
        "\n",
        "# observando se o diretório datasets foi criado com sucesso \n",
        "!ls dados"
      ],
      "execution_count": 5,
      "outputs": [
        {
          "output_type": "stream",
          "text": [
            "50_Startups.csv\n"
          ],
          "name": "stdout"
        }
      ]
    },
    {
      "metadata": {
        "id": "Mnq2XRGwkZgr",
        "colab_type": "code",
        "outputId": "3c027df7-64e1-4ac9-fb25-e26bda5269d0",
        "colab": {
          "base_uri": "https://localhost:8080/",
          "height": 204
        }
      },
      "cell_type": "code",
      "source": [
        "# Importing the dataset\n",
        "dataset = pd.read_csv(DATA_PATH+FILE_TO_DOWNLOAD , usecols=['R&D Spend','Administration','Marketing Spend','Profit'])\n",
        "\n",
        "X = dataset.iloc[:, :-1].values\n",
        "y = dataset.iloc[:, -1].values\n",
        "\n",
        "dataset.head()\n",
        "\n"
      ],
      "execution_count": 20,
      "outputs": [
        {
          "output_type": "execute_result",
          "data": {
            "text/html": [
              "<div>\n",
              "<style scoped>\n",
              "    .dataframe tbody tr th:only-of-type {\n",
              "        vertical-align: middle;\n",
              "    }\n",
              "\n",
              "    .dataframe tbody tr th {\n",
              "        vertical-align: top;\n",
              "    }\n",
              "\n",
              "    .dataframe thead th {\n",
              "        text-align: right;\n",
              "    }\n",
              "</style>\n",
              "<table border=\"1\" class=\"dataframe\">\n",
              "  <thead>\n",
              "    <tr style=\"text-align: right;\">\n",
              "      <th></th>\n",
              "      <th>R&amp;D Spend</th>\n",
              "      <th>Administration</th>\n",
              "      <th>Marketing Spend</th>\n",
              "      <th>Profit</th>\n",
              "    </tr>\n",
              "  </thead>\n",
              "  <tbody>\n",
              "    <tr>\n",
              "      <th>0</th>\n",
              "      <td>165349.20</td>\n",
              "      <td>136897.80</td>\n",
              "      <td>471784.10</td>\n",
              "      <td>192261.83</td>\n",
              "    </tr>\n",
              "    <tr>\n",
              "      <th>1</th>\n",
              "      <td>162597.70</td>\n",
              "      <td>151377.59</td>\n",
              "      <td>443898.53</td>\n",
              "      <td>191792.06</td>\n",
              "    </tr>\n",
              "    <tr>\n",
              "      <th>2</th>\n",
              "      <td>153441.51</td>\n",
              "      <td>101145.55</td>\n",
              "      <td>407934.54</td>\n",
              "      <td>191050.39</td>\n",
              "    </tr>\n",
              "    <tr>\n",
              "      <th>3</th>\n",
              "      <td>144372.41</td>\n",
              "      <td>118671.85</td>\n",
              "      <td>383199.62</td>\n",
              "      <td>182901.99</td>\n",
              "    </tr>\n",
              "    <tr>\n",
              "      <th>4</th>\n",
              "      <td>142107.34</td>\n",
              "      <td>91391.77</td>\n",
              "      <td>366168.42</td>\n",
              "      <td>166187.94</td>\n",
              "    </tr>\n",
              "  </tbody>\n",
              "</table>\n",
              "</div>"
            ],
            "text/plain": [
              "   R&D Spend  Administration  Marketing Spend     Profit\n",
              "0  165349.20       136897.80        471784.10  192261.83\n",
              "1  162597.70       151377.59        443898.53  191792.06\n",
              "2  153441.51       101145.55        407934.54  191050.39\n",
              "3  144372.41       118671.85        383199.62  182901.99\n",
              "4  142107.34        91391.77        366168.42  166187.94"
            ]
          },
          "metadata": {
            "tags": []
          },
          "execution_count": 20
        }
      ]
    },
    {
      "metadata": {
        "id": "4XExRxaKmKPd",
        "colab_type": "code",
        "colab": {}
      },
      "cell_type": "code",
      "source": [
        "# Feature Scaling\n",
        "from sklearn.preprocessing import MinMaxScaler\n",
        "sc = MinMaxScaler(feature_range = (0, 1))\n",
        "X = sc.fit_transform(X)"
      ],
      "execution_count": 0,
      "outputs": []
    },
    {
      "metadata": {
        "id": "HQNpExMKmM8D",
        "colab_type": "code",
        "colab": {}
      },
      "cell_type": "code",
      "source": [
        "# Training the SOM\n",
        "from minisom import MiniSom\n",
        "som = MiniSom(x = 10, y = 10, input_len = 3, sigma = 1.0, learning_rate = 0.5)\n",
        "som.random_weights_init(X)\n",
        "som.train_random(data = X, num_iteration = 100)"
      ],
      "execution_count": 0,
      "outputs": []
    },
    {
      "metadata": {
        "id": "TwBd-HBimQPc",
        "colab_type": "code",
        "outputId": "21a8fe1b-fc32-47cd-ffb1-6971c2aaa421",
        "colab": {
          "base_uri": "https://localhost:8080/",
          "height": 351
        }
      },
      "cell_type": "code",
      "source": [
        "# Visualizing the results\n",
        "from pylab import bone, pcolor, colorbar, plot, show\n",
        "bone()\n",
        "pcolor(som.distance_map().T)\n",
        "colorbar()\n",
        "markers = ['o', 's']\n",
        "colors = ['r', 'g']\n",
        "for i, x in enumerate(X):\n",
        "    w = som.winner(x)\n",
        "    plot(w[0] + 0.5,\n",
        "         w[1] + 0.5,\n",
        "         markers[y[i]],\n",
        "         markeredgecolor = colors[y[i]],\n",
        "         markerfacecolor = 'None',\n",
        "         markersize = 10,\n",
        "         markeredgewidth = 2)\n",
        "show()\n"
      ],
      "execution_count": 0,
      "outputs": [
        {
          "output_type": "display_data",
          "data": {
            "image/png": "[encoded data removed]",
            "text/plain": [
              "<matplotlib.figure.Figure at 0x7fa31c2c6278>"
            ]
          },
          "metadata": {
            "tags": []
          }
        }
      ]
    },
    {
      "metadata": {
        "id": "DBywFkxNmfbO",
        "colab_type": "code",
        "outputId": "3c8708e2-059f-4af9-d16d-ac12a05c7ce3",
        "colab": {
          "base_uri": "https://localhost:8080/",
          "height": 867
        }
      },
      "cell_type": "code",
      "source": [
        "print(X)"
      ],
      "execution_count": 24,
      "outputs": [
        {
          "output_type": "stream",
          "text": [
            "[[1.         0.65174393 1.        ]\n",
            " [0.98335946 0.76197173 0.94089337]\n",
            " [0.92798459 0.37957895 0.8646636 ]\n",
            " [0.87313643 0.51299839 0.81223513]\n",
            " [0.85943772 0.30532804 0.77613557]\n",
            " [0.797566   0.3694479  0.76912588]\n",
            " [0.81412828 0.73016111 0.27071031]\n",
            " [0.7880179  0.71745725 0.68649342]\n",
            " [0.72901786 0.74173276 0.66049977]\n",
            " [0.74590551 0.43692884 0.64644319]\n",
            " [0.61635061 0.45150637 0.48573267]\n",
            " [0.60884455 0.30836422 0.52936195]\n",
            " [0.56766982 0.57883556 0.52956308]\n",
            " [0.55635219 0.64106561 0.53555202]\n",
            " [0.72539353 0.8013272  0.54370828]\n",
            " [0.69261666 0.54302973 0.55486446]\n",
            " [0.47180821 0.53527036 0.56031151]\n",
            " [0.57246821 0.71401273 0.59894835]\n",
            " [0.55488118 0.47877201 0.62511553]\n",
            " [0.52264964 0.77823604 0.        ]\n",
            " [0.46116861 0.47642362 0.63305328]\n",
            " [0.47408436 0.78021012 0.63532724]\n",
            " [0.4475048  0.54429273 0.64291963]\n",
            " [0.40842369 0.4146383  0.64599195]\n",
            " [0.46594728 0.3653876  0.29796428]\n",
            " [0.39107967 0.67195793 0.29242745]\n",
            " [0.45557444 0.70684477 0.28413435]\n",
            " [0.43609283 0.58297807 0.74861321]\n",
            " [0.39946683 1.         0.25042853]\n",
            " [0.39676926 0.77456642 0.22709197]\n",
            " [0.37493063 0.48992809 0.19316302]\n",
            " [0.36974101 0.77205322 0.18698856]\n",
            " [0.38348453 0.5932935  0.09768292]\n",
            " [0.33561668 0.39413365 0.45494286]\n",
            " [0.2807759  0.81005496 0.44680961]\n",
            " [0.2782839  0.25703165 0.43561799]\n",
            " [0.17335288 0.57682456 0.42631115]\n",
            " [0.26652654 0.         0.41762624]\n",
            " [0.12234465 0.11163611 0.39269043]\n",
            " [0.23319442 0.24130912 0.3709309 ]\n",
            " [0.17390063 0.51204073 0.36626005]\n",
            " [0.16869099 0.25446874 0.34861436]\n",
            " [0.14297577 0.34185188 0.31370517]\n",
            " [0.09377566 0.57930693 0.07531871]\n",
            " [0.13412668 0.78807166 0.06005866]\n",
            " [0.0060492  0.5547241  0.0040356 ]\n",
            " [0.00795565 0.49125975 0.62976785]\n",
            " [0.         0.64054682 0.        ]\n",
            " [0.00327821 0.00350184 0.        ]\n",
            " [0.         0.50014806 0.09574943]]\n"
          ],
          "name": "stdout"
        }
      ]
    },
    {
      "metadata": {
        "id": "g06JK4RqxcO7",
        "colab_type": "code",
        "outputId": "d8638625-f5bf-48e6-a160-2058eb6b3d07",
        "colab": {
          "base_uri": "https://localhost:8080/",
          "height": 2451
        }
      },
      "cell_type": "code",
      "source": [
        "help(MiniSom)"
      ],
      "execution_count": 25,
      "outputs": [
        {
          "output_type": "stream",
          "text": [
            "Help on class MiniSom in module minisom:\n",
            "\n",
            "class MiniSom(builtins.object)\n",
            " |  Methods defined here:\n",
            " |  \n",
            " |  __init__(self, x, y, input_len, sigma=1.0, learning_rate=0.5, decay_function=<function asymptotic_decay at 0x7fd048164510>, neighborhood_function='gaussian', random_seed=None)\n",
            " |      Initializes a Self Organizing Maps.\n",
            " |      \n",
            " |      A rule of thumb to set the size of the grid for a dimensionality\n",
            " |      reduction task is that it should contain 5*sqrt(N) neurons\n",
            " |      where N is the number of samples in the dataset to analyze.\n",
            " |      \n",
            " |      E.g. if your dataset has 150 samples, 5*sqrt(150) = 61.23\n",
            " |      hence a map 8-by-8 should perform well.\n",
            " |      \n",
            " |      Parameters\n",
            " |      ----------\n",
            " |      x : int\n",
            " |          x dimension of the SOM.\n",
            " |      \n",
            " |      y : int\n",
            " |          y dimension of the SOM.\n",
            " |      \n",
            " |      input_len : int\n",
            " |          Number of the elements of the vectors in input.\n",
            " |      \n",
            " |      sigma : float, optional (default=1.0)\n",
            " |          Spread of the neighborhood function, needs to be adequate\n",
            " |          to the dimensions of the map.\n",
            " |          (at the iteration t we have sigma(t) = sigma / (1 + t/T)\n",
            " |          where T is #num_iteration/2)\n",
            " |          learning_rate, initial learning rate\n",
            " |          (at the iteration t we have\n",
            " |          learning_rate(t) = learning_rate / (1 + t/T)\n",
            " |          where T is #num_iteration/2)\n",
            " |      \n",
            " |      decay_function : function (default=None)\n",
            " |          Function that reduces learning_rate and sigma at each iteration\n",
            " |          the default function is:\n",
            " |                      learning_rate / (1+t/(max_iterarations/2))\n",
            " |      \n",
            " |          A custom decay function will need to to take in input\n",
            " |          three parameters in the following order:\n",
            " |      \n",
            " |          1. learning rate\n",
            " |          2. current iteration\n",
            " |          3. maximum number of iterations allowed\n",
            " |      \n",
            " |      \n",
            " |          Note that if a lambda function is used to define the decay\n",
            " |          MiniSom will not be pickable anymore.\n",
            " |      \n",
            " |      neighborhood_function : function, optional (default='gaussian')\n",
            " |          Function that weights the neighborhood of a position in the map\n",
            " |          possible values: 'gaussian', 'mexican_hat', 'bubble'\n",
            " |      \n",
            " |      random_seed : int, optional (default=None)\n",
            " |          Random seed to use.\n",
            " |  \n",
            " |  activate(self, x)\n",
            " |      Returns the activation map to x\n",
            " |  \n",
            " |  activation_response(self, data)\n",
            " |      Returns a matrix where the element i,j is the number of times\n",
            " |      that the neuron i,j have been winner.\n",
            " |  \n",
            " |  distance_map(self)\n",
            " |      Returns the distance map of the weights.\n",
            " |      Each cell is the normalised sum of the distances between\n",
            " |      a neuron and its neighbours.\n",
            " |  \n",
            " |  get_weights(self)\n",
            " |      Returns the weights of the neural network\n",
            " |  \n",
            " |  labels_map(self, data, labels)\n",
            " |      Returns a dictionary wm where wm[(i,j)] is a dictionary\n",
            " |      that contains the number of samples from a given label\n",
            " |      that have been mapped in position i,j.\n",
            " |      \n",
            " |      Parameters\n",
            " |      ----------\n",
            " |      data : data matrix\n",
            " |      \n",
            " |      label : list or array that contains the label of each sample in data.\n",
            " |  \n",
            " |  pca_weights_init(self, data)\n",
            " |      Initializes the weights to span the first two principal components.\n",
            " |      \n",
            " |      This initialization doesn't depend on random processes and\n",
            " |      makes the training process converge faster.\n",
            " |      \n",
            " |      It is strongly reccomended to normalize the data before initializing\n",
            " |      the weights and use the same normalization for the training data.\n",
            " |  \n",
            " |  quantization(self, data)\n",
            " |      Assigns a code book (weights vector of the winning neuron)\n",
            " |      to each sample in data.\n",
            " |  \n",
            " |  quantization_error(self, data)\n",
            " |      Returns the quantization error computed as the average\n",
            " |      distance between each input sample and its best matching unit.\n",
            " |  \n",
            " |  random_weights_init(self, data)\n",
            " |      Initializes the weights of the SOM\n",
            " |      picking random samples from data\n",
            " |  \n",
            " |  train_batch(self, data, num_iteration)\n",
            " |      Trains using all the vectors in data sequentially\n",
            " |  \n",
            " |  train_random(self, data, num_iteration)\n",
            " |      Trains the SOM picking samples at random from data\n",
            " |  \n",
            " |  update(self, x, win, t, max_iteration)\n",
            " |      Updates the weights of the neurons.\n",
            " |      \n",
            " |      Parameters\n",
            " |      ----------\n",
            " |      x : np.array\n",
            " |          Current pattern to learn\n",
            " |      win : tuple\n",
            " |          Position of the winning neuron for x (array or tuple)\n",
            " |      t : int\n",
            " |          Iteration index\n",
            " |      max_iteration : int\n",
            " |          Maximum number of training itarations\n",
            " |  \n",
            " |  win_map(self, data)\n",
            " |      Returns a dictionary wm where wm[(i,j)] is a list\n",
            " |      with all the patterns that have been mapped in the position i,j.\n",
            " |  \n",
            " |  winner(self, x)\n",
            " |      Computes the coordinates of the winning neuron for the sample x\n",
            " |  \n",
            " |  ----------------------------------------------------------------------\n",
            " |  Data descriptors defined here:\n",
            " |  \n",
            " |  __dict__\n",
            " |      dictionary for instance variables (if defined)\n",
            " |  \n",
            " |  __weakref__\n",
            " |      list of weak references to the object (if defined)\n",
            "\n"
          ],
          "name": "stdout"
        }
      ]
    },
    {
      "metadata": {
        "id": "SV7rj_JO1Jtt",
        "colab_type": "code",
        "outputId": "111787a7-76cc-46f3-8503-2e4d85e43fef",
        "colab": {
          "base_uri": "https://localhost:8080/",
          "height": 1462
        }
      },
      "cell_type": "code",
      "source": [
        "print(som.get_weights())\n"
      ],
      "execution_count": 0,
      "outputs": [
        {
          "output_type": "stream",
          "text": [
            "[[[3.09874719e-01 3.80945976e-02 2.98417373e-01 ... 5.62458631e-01\n",
            "   8.02462088e-02 1.48232005e-03]\n",
            "  [3.43853606e-01 2.00382730e-01 2.63878901e-01 ... 4.81722730e-01\n",
            "   9.01006639e-02 8.20901145e-04]\n",
            "  [3.71604639e-01 2.02782893e-01 1.96006359e-01 ... 3.76654482e-01\n",
            "   7.47187810e-02 5.18418620e-04]\n",
            "  ...\n",
            "  [2.23194755e-01 6.04685729e-01 1.68424721e-01 ... 2.00698149e-01\n",
            "   7.24931295e-02 1.36456641e-03]\n",
            "  [2.39913212e-01 6.69762338e-01 1.83570998e-01 ... 2.15859400e-01\n",
            "   8.75942129e-02 2.93104663e-03]\n",
            "  [2.34411922e-01 7.51780816e-01 2.35237700e-01 ... 3.32829070e-01\n",
            "   6.79930710e-02 3.59322872e-03]]\n",
            "\n",
            " [[2.97511666e-01 5.22502203e-06 2.10987251e-01 ... 4.58857704e-01\n",
            "   9.08480792e-02 1.58355899e-03]\n",
            "  [3.22532682e-01 7.58033646e-02 2.01448846e-01 ... 4.16973030e-01\n",
            "   7.75698506e-02 9.50016271e-04]\n",
            "  [3.95674759e-01 1.29302474e-01 1.63782084e-01 ... 3.84602781e-01\n",
            "   6.92703653e-02 5.63232572e-04]\n",
            "  ...\n",
            "  [3.61427506e-01 5.98404478e-01 1.52653232e-01 ... 1.69903611e-01\n",
            "   6.18817327e-02 1.76740208e-03]\n",
            "  [3.62627066e-01 6.90519465e-01 2.13328943e-01 ... 2.71212651e-01\n",
            "   8.03372121e-02 2.15987896e-03]\n",
            "  [2.86153843e-01 7.87122466e-01 2.52351424e-01 ... 3.64539437e-01\n",
            "   7.47476955e-02 1.63520918e-03]]\n",
            "\n",
            " [[2.50763300e-01 3.74078569e-02 1.27918860e-01 ... 3.54859043e-01\n",
            "   8.96446587e-02 1.78817663e-03]\n",
            "  [3.42277463e-01 6.64634375e-02 1.36435181e-01 ... 3.60146037e-01\n",
            "   8.06275841e-02 1.19666937e-03]\n",
            "  [3.65060327e-01 8.24502140e-02 1.26585203e-01 ... 3.46054247e-01\n",
            "   8.15750127e-02 6.14729257e-04]\n",
            "  ...\n",
            "  [4.25286724e-01 5.60462774e-01 1.95088865e-01 ... 3.57894359e-01\n",
            "   8.54924619e-02 2.54239653e-03]\n",
            "  [4.12541613e-01 7.02000803e-01 1.71190641e-01 ... 3.32552356e-01\n",
            "   7.08944342e-02 3.41915176e-03]\n",
            "  [3.80273917e-01 7.19480858e-01 1.66833402e-01 ... 3.77746132e-01\n",
            "   6.78274604e-02 2.62145905e-03]]\n",
            "\n",
            " ...\n",
            "\n",
            " [[3.52493711e-01 3.19506900e-01 1.42102634e-01 ... 2.33163504e-01\n",
            "   3.67037552e-02 4.22500660e-03]\n",
            "  [3.58505732e-01 2.08885129e-01 1.52118109e-01 ... 2.51154889e-01\n",
            "   2.99869262e-02 6.19369215e-03]\n",
            "  [3.98631892e-01 8.82116068e-02 2.23127698e-01 ... 2.48949785e-01\n",
            "   1.67603639e-02 1.05535008e-02]\n",
            "  ...\n",
            "  [1.50988650e-01 5.06337854e-01 1.11884654e-01 ... 2.41839159e-01\n",
            "   3.97358206e-02 5.58757541e-03]\n",
            "  [1.38009600e-01 5.45044940e-01 1.16389180e-01 ... 2.35900233e-01\n",
            "   3.94999073e-02 3.64258079e-03]\n",
            "  [1.97492009e-01 5.69455508e-01 1.52104893e-01 ... 2.11580076e-01\n",
            "   3.93151611e-02 2.46215495e-03]]\n",
            "\n",
            " [[3.47523341e-01 8.82489613e-02 1.14385377e-01 ... 2.47311688e-01\n",
            "   1.50334209e-02 6.87863429e-03]\n",
            "  [3.47957271e-01 5.69889042e-02 1.38965372e-01 ... 2.51708113e-01\n",
            "   2.05371888e-02 7.65523296e-03]\n",
            "  [3.68079906e-01 4.33672269e-02 1.93604983e-01 ... 2.62550538e-01\n",
            "   2.32633500e-02 8.93169759e-03]\n",
            "  ...\n",
            "  [1.17927353e-01 4.61196862e-01 1.42174194e-01 ... 2.30219392e-01\n",
            "   2.66588919e-02 6.46929513e-03]\n",
            "  [1.37861541e-01 5.36125067e-01 1.37516580e-01 ... 2.60145010e-01\n",
            "   4.06322089e-02 5.25725905e-03]\n",
            "  [1.88897968e-01 6.59601304e-01 1.62891795e-01 ... 3.01439158e-01\n",
            "   3.94321649e-02 2.95602371e-03]]\n",
            "\n",
            " [[3.26740484e-01 1.02598503e-02 1.24032669e-01 ... 2.42953712e-01\n",
            "   1.38661164e-02 8.76852123e-03]\n",
            "  [3.20192011e-01 1.11194212e-02 1.37147715e-01 ... 2.59747465e-01\n",
            "   2.75318876e-02 7.27360062e-03]\n",
            "  [3.44151782e-01 2.75233429e-02 1.33758970e-01 ... 2.92454875e-01\n",
            "   3.72484218e-02 5.24800186e-03]\n",
            "  ...\n",
            "  [1.74347705e-01 4.55493418e-01 1.66963956e-01 ... 2.33549462e-01\n",
            "   3.16505739e-02 5.56650645e-03]\n",
            "  [1.61616380e-01 5.74148033e-01 1.88001624e-01 ... 2.66576718e-01\n",
            "   3.77469079e-02 4.33647684e-03]\n",
            "  [1.49110543e-01 6.98085356e-01 1.98442989e-01 ... 2.67512757e-01\n",
            "   4.70588619e-02 1.61812936e-03]]]\n"
          ],
          "name": "stdout"
        }
      ]
    },
    {
      "metadata": {
        "id": "z79Uvl4dxcG1",
        "colab_type": "text"
      },
      "cell_type": "markdown",
      "source": [
        ""
      ]
    }
  ]
}