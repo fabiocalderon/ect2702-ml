{
  "nbformat": 4,
  "nbformat_minor": 0,
  "metadata": {
    "colab": {
      "name": "K_means_perfil_politico.ipynb",
      "version": "0.3.2",
      "provenance": [],
      "collapsed_sections": [],
      "include_colab_link": true
    },
    "kernelspec": {
      "name": "python3",
      "display_name": "Python 3"
    }
  },
  "cells": [
    {
      "cell_type": "markdown",
      "metadata": {
        "id": "view-in-github",
        "colab_type": "text"
      },
      "source": [
        "<a href=\"https://colab.research.google.com/github/fabiocalderon/ect2702-ml/blob/master/K_means_perfil_politico.ipynb\" target=\"_parent\"><img src=\"https://colab.research.google.com/assets/colab-badge.svg\" alt=\"Open In Colab\"/></a>"
      ]
    },
    {
      "metadata": {
        "id": "vXnYcy6XnBCu",
        "colab_type": "code",
        "colab": {}
      },
      "cell_type": "code",
      "source": [
        "# K-Means\n",
        "# from https://www.superdatascience.com/machine-learning/ \n",
        "\n",
        "\n",
        "# Part 1 - Data Preprocessing\n",
        "\n",
        "# Importing the libraries\n",
        "import numpy as np\n",
        "import matplotlib.pyplot as plt\n",
        "import pandas as pd"
      ],
      "execution_count": 0,
      "outputs": []
    },
    {
      "metadata": {
        "id": "7bXJKKaAnPIE",
        "colab_type": "code",
        "outputId": "185ff967-7d15-4cad-a237-c39cf31aa567",
        "colab": {
          "base_uri": "https://localhost:8080/",
          "height": 34
        }
      },
      "cell_type": "code",
      "source": [
        "import os\n",
        "import tarfile\n",
        "from six.moves import urllib\n",
        "\n",
        "FILE_TO_DOWNLOAD =  \"perfil_politico.csv\"\n",
        "DOWNLOAD_ROOT = \"https://github.com/ect-info/ml/raw/master/\"\n",
        "DATA_PATH = \"dados/\"\n",
        "DATA_URL = DOWNLOAD_ROOT + DATA_PATH + FILE_TO_DOWNLOAD\n",
        "\n",
        "def fetch_data(data_url=DATA_URL, data_path=DATA_PATH, file_to_download=FILE_TO_DOWNLOAD):\n",
        "  if not os.path.isdir(data_path):\n",
        "    os.makedirs(data_path)\n",
        "  urllib.request.urlretrieve(data_url, data_path+file_to_download)\n",
        "  \n",
        "  \n",
        "fetch_data()\n",
        "\n",
        "# observando se o diretório datasets foi criado com sucesso \n",
        "!ls dados"
      ],
      "execution_count": 0,
      "outputs": [
        {
          "output_type": "stream",
          "text": [
            "perfil_politico.csv\n"
          ],
          "name": "stdout"
        }
      ]
    },
    {
      "metadata": {
        "id": "_HE3vh8Hn7uS",
        "colab_type": "code",
        "outputId": "35ff26fe-a178-4f1f-e6e3-77f20577707b",
        "colab": {
          "base_uri": "https://localhost:8080/",
          "height": 343
        }
      },
      "cell_type": "code",
      "source": [
        "# Importing the dataset\n",
        "dataset = pd.read_csv(DATA_PATH+FILE_TO_DOWNLOAD)\n",
        "\n",
        "\n",
        "dataset.head(  )"
      ],
      "execution_count": 0,
      "outputs": [
        {
          "output_type": "execute_result",
          "data": {
            "text/html": [
              "<div>\n",
              "<style scoped>\n",
              "    .dataframe tbody tr th:only-of-type {\n",
              "        vertical-align: middle;\n",
              "    }\n",
              "\n",
              "    .dataframe tbody tr th {\n",
              "        vertical-align: top;\n",
              "    }\n",
              "\n",
              "    .dataframe thead th {\n",
              "        text-align: right;\n",
              "    }\n",
              "</style>\n",
              "<table border=\"1\" class=\"dataframe\">\n",
              "  <thead>\n",
              "    <tr style=\"text-align: right;\">\n",
              "      <th></th>\n",
              "      <th>Apoia privatizações das empresas brasileiras?</th>\n",
              "      <th>Lula deve ser solto</th>\n",
              "      <th>O impeachment de Dilma foi um golpe?</th>\n",
              "      <th>Legalização do aborto</th>\n",
              "      <th>Políticas de ações afirmativas (cotas)</th>\n",
              "      <th>A favor da reforma agrária</th>\n",
              "      <th>Todos os brasileiro devem alcançar suas conquistas através da meritocracia</th>\n",
              "      <th>Apoia a legalização do porte de armas</th>\n",
              "      <th>Apoia a redução da maioridade penal</th>\n",
              "      <th>Apoia a laicidade do Estado</th>\n",
              "      <th>Apoia a diminuição do Estado</th>\n",
              "      <th>As Universidades são um gasto público?</th>\n",
              "      <th>A favor do foro privilegiado?</th>\n",
              "      <th>A favor de uma reforma política?</th>\n",
              "      <th>A favor de uma diminuição de regalias para os políticos?</th>\n",
              "    </tr>\n",
              "  </thead>\n",
              "  <tbody>\n",
              "    <tr>\n",
              "      <th>0</th>\n",
              "      <td>1.0</td>\n",
              "      <td>0.0</td>\n",
              "      <td>0.0</td>\n",
              "      <td>0.5</td>\n",
              "      <td>1.0</td>\n",
              "      <td>1.0</td>\n",
              "      <td>0.5</td>\n",
              "      <td>0.5</td>\n",
              "      <td>1.0</td>\n",
              "      <td>1.0</td>\n",
              "      <td>1.0</td>\n",
              "      <td>0</td>\n",
              "      <td>0.0</td>\n",
              "      <td>1</td>\n",
              "      <td>1</td>\n",
              "    </tr>\n",
              "    <tr>\n",
              "      <th>1</th>\n",
              "      <td>0.5</td>\n",
              "      <td>1.0</td>\n",
              "      <td>1.0</td>\n",
              "      <td>0.5</td>\n",
              "      <td>1.0</td>\n",
              "      <td>0.5</td>\n",
              "      <td>1.0</td>\n",
              "      <td>0.0</td>\n",
              "      <td>1.0</td>\n",
              "      <td>1.0</td>\n",
              "      <td>0.5</td>\n",
              "      <td>0</td>\n",
              "      <td>0.0</td>\n",
              "      <td>1</td>\n",
              "      <td>1</td>\n",
              "    </tr>\n",
              "    <tr>\n",
              "      <th>2</th>\n",
              "      <td>1.0</td>\n",
              "      <td>0.0</td>\n",
              "      <td>0.0</td>\n",
              "      <td>1.0</td>\n",
              "      <td>0.5</td>\n",
              "      <td>0.5</td>\n",
              "      <td>1.0</td>\n",
              "      <td>1.0</td>\n",
              "      <td>1.0</td>\n",
              "      <td>1.0</td>\n",
              "      <td>1.0</td>\n",
              "      <td>0</td>\n",
              "      <td>0.0</td>\n",
              "      <td>0</td>\n",
              "      <td>1</td>\n",
              "    </tr>\n",
              "    <tr>\n",
              "      <th>3</th>\n",
              "      <td>1.0</td>\n",
              "      <td>0.0</td>\n",
              "      <td>1.0</td>\n",
              "      <td>0.0</td>\n",
              "      <td>1.0</td>\n",
              "      <td>1.0</td>\n",
              "      <td>1.0</td>\n",
              "      <td>0.0</td>\n",
              "      <td>0.0</td>\n",
              "      <td>1.0</td>\n",
              "      <td>1.0</td>\n",
              "      <td>0</td>\n",
              "      <td>1.0</td>\n",
              "      <td>1</td>\n",
              "      <td>1</td>\n",
              "    </tr>\n",
              "    <tr>\n",
              "      <th>4</th>\n",
              "      <td>0.0</td>\n",
              "      <td>0.0</td>\n",
              "      <td>1.0</td>\n",
              "      <td>0.0</td>\n",
              "      <td>0.0</td>\n",
              "      <td>0.0</td>\n",
              "      <td>1.0</td>\n",
              "      <td>1.0</td>\n",
              "      <td>1.0</td>\n",
              "      <td>1.0</td>\n",
              "      <td>0.0</td>\n",
              "      <td>0</td>\n",
              "      <td>0.0</td>\n",
              "      <td>1</td>\n",
              "      <td>1</td>\n",
              "    </tr>\n",
              "  </tbody>\n",
              "</table>\n",
              "</div>"
            ],
            "text/plain": [
              "   Apoia privatizações das empresas brasileiras?  Lula deve ser solto  \\\n",
              "0                                            1.0                  0.0   \n",
              "1                                            0.5                  1.0   \n",
              "2                                            1.0                  0.0   \n",
              "3                                            1.0                  0.0   \n",
              "4                                            0.0                  0.0   \n",
              "\n",
              "   O impeachment de Dilma foi um golpe?  Legalização do aborto  \\\n",
              "0                                   0.0                    0.5   \n",
              "1                                   1.0                    0.5   \n",
              "2                                   0.0                    1.0   \n",
              "3                                   1.0                    0.0   \n",
              "4                                   1.0                    0.0   \n",
              "\n",
              "   Políticas de ações afirmativas (cotas)  A favor da reforma agrária  \\\n",
              "0                                     1.0                         1.0   \n",
              "1                                     1.0                         0.5   \n",
              "2                                     0.5                         0.5   \n",
              "3                                     1.0                         1.0   \n",
              "4                                     0.0                         0.0   \n",
              "\n",
              "   Todos os brasileiro devem alcançar suas conquistas através da meritocracia  \\\n",
              "0                                                0.5                            \n",
              "1                                                1.0                            \n",
              "2                                                1.0                            \n",
              "3                                                1.0                            \n",
              "4                                                1.0                            \n",
              "\n",
              "   Apoia a legalização do porte de armas  Apoia a redução da maioridade penal  \\\n",
              "0                                    0.5                                  1.0   \n",
              "1                                    0.0                                  1.0   \n",
              "2                                    1.0                                  1.0   \n",
              "3                                    0.0                                  0.0   \n",
              "4                                    1.0                                  1.0   \n",
              "\n",
              "   Apoia a laicidade do Estado  Apoia a diminuição do Estado  \\\n",
              "0                          1.0                           1.0   \n",
              "1                          1.0                           0.5   \n",
              "2                          1.0                           1.0   \n",
              "3                          1.0                           1.0   \n",
              "4                          1.0                           0.0   \n",
              "\n",
              "   As Universidades são um gasto público?  A favor do foro privilegiado?  \\\n",
              "0                                       0                            0.0   \n",
              "1                                       0                            0.0   \n",
              "2                                       0                            0.0   \n",
              "3                                       0                            1.0   \n",
              "4                                       0                            0.0   \n",
              "\n",
              "   A favor de uma reforma política?  \\\n",
              "0                                 1   \n",
              "1                                 1   \n",
              "2                                 0   \n",
              "3                                 1   \n",
              "4                                 1   \n",
              "\n",
              "   A favor de uma diminuição de regalias para os políticos?  \n",
              "0                                                  1         \n",
              "1                                                  1         \n",
              "2                                                  1         \n",
              "3                                                  1         \n",
              "4                                                  1         "
            ]
          },
          "metadata": {
            "tags": []
          },
          "execution_count": 3
        }
      ]
    },
    {
      "metadata": {
        "id": "BttMH4I8oLj3",
        "colab_type": "code",
        "outputId": "2e3da413-1239-4723-8870-c2bc03fc8c23",
        "colab": {
          "base_uri": "https://localhost:8080/",
          "height": 85
        }
      },
      "cell_type": "code",
      "source": [
        "X = dataset.iloc[:,:].values\n",
        "\n",
        "print(X[0:4,:])"
      ],
      "execution_count": 0,
      "outputs": [
        {
          "output_type": "stream",
          "text": [
            "[[1.  0.  0.  0.5 1.  1.  0.5 0.5 1.  1.  1.  0.  0.  1.  1. ]\n",
            " [0.5 1.  1.  0.5 1.  0.5 1.  0.  1.  1.  0.5 0.  0.  1.  1. ]\n",
            " [1.  0.  0.  1.  0.5 0.5 1.  1.  1.  1.  1.  0.  0.  0.  1. ]\n",
            " [1.  0.  1.  0.  1.  1.  1.  0.  0.  1.  1.  0.  1.  1.  1. ]]\n"
          ],
          "name": "stdout"
        }
      ]
    },
    {
      "metadata": {
        "id": "rTI5N_WGrHuT",
        "colab_type": "code",
        "outputId": "c45974f0-7bd3-4000-8238-d6ef7564ce85",
        "colab": {
          "base_uri": "https://localhost:8080/",
          "height": 85
        }
      },
      "cell_type": "code",
      "source": [
        "print(kmeans.cluster_centers_[:, :])"
      ],
      "execution_count": 0,
      "outputs": [
        {
          "output_type": "stream",
          "text": [
            "[[0.7  0.   0.3  0.5  0.4  0.5  0.9  0.7  1.   0.9  0.8  0.2  0.   0.8\n",
            "  1.  ]\n",
            " [0.45 0.55 1.   0.65 0.85 0.65 0.55 0.05 0.3  1.   0.6  0.1  0.25 1.\n",
            "  0.9 ]]\n"
          ],
          "name": "stdout"
        }
      ]
    },
    {
      "metadata": {
        "id": "yJlKdQ6v7kwi",
        "colab_type": "code",
        "outputId": "56f389bc-c42c-4b3a-d2a9-b70289def9db",
        "colab": {
          "base_uri": "https://localhost:8080/",
          "height": 34
        }
      },
      "cell_type": "code",
      "source": [
        "A = X[3 , :]\n",
        "print(A)"
      ],
      "execution_count": 0,
      "outputs": [
        {
          "output_type": "stream",
          "text": [
            "[1. 0. 1. 0. 1. 1. 1. 0. 0. 1. 1. 0. 1. 1. 1.]\n"
          ],
          "name": "stdout"
        }
      ]
    },
    {
      "metadata": {
        "id": "mTgjlZI-8FPO",
        "colab_type": "code",
        "outputId": "d8b4bff9-314d-400c-e8bf-838be0ff6811",
        "colab": {
          "base_uri": "https://localhost:8080/",
          "height": 85
        }
      },
      "cell_type": "code",
      "source": [
        "Centroide0 = kmeans.cluster_centers_[0, ]\n",
        "Centroide1 = kmeans.cluster_centers_[1, ]\n",
        "\n",
        "B = Centroide0 - A\n",
        "C = Centroide1 - A\n",
        "\n",
        "\n",
        "print(B)\n",
        "print(C)"
      ],
      "execution_count": 0,
      "outputs": [
        {
          "output_type": "stream",
          "text": [
            "[-0.3  0.  -0.7  0.5 -0.6 -0.5 -0.1  0.7  1.  -0.1 -0.2  0.2 -1.  -0.2\n",
            "  0. ]\n",
            "[-0.55  0.55  0.    0.65 -0.15 -0.35 -0.45  0.05  0.3   0.   -0.4   0.1\n",
            " -0.75  0.   -0.1 ]\n"
          ],
          "name": "stdout"
        }
      ]
    },
    {
      "metadata": {
        "id": "RFaOE93B-_2L",
        "colab_type": "code",
        "outputId": "99dc92b7-6003-4fc0-b9a5-34c737b27c3b",
        "colab": {
          "base_uri": "https://localhost:8080/",
          "height": 68
        }
      },
      "cell_type": "code",
      "source": [
        "import scipy as sp\n",
        "\n",
        "Euclid0 = sp.spatial.distance.euclidean(A , Centroide0)\n",
        "Euclid1 = sp.spatial.distance.euclidean(A , Centroide1)\n",
        "\n",
        "print('Distancia Euclidiana:\\nCentroide 0: {}\\nCentroide 1: {}'.format(Euclid0,Euclid1))\n"
      ],
      "execution_count": 0,
      "outputs": [
        {
          "output_type": "stream",
          "text": [
            "Distancia Euclidiana:\n",
            "Centroide 0: 2.0174241001832014\n",
            "Centroide 1: 1.4866068747318506\n"
          ],
          "name": "stdout"
        }
      ]
    },
    {
      "metadata": {
        "id": "gKkNQf-cHj5I",
        "colab_type": "code",
        "colab": {}
      },
      "cell_type": "code",
      "source": [
        "def Euclides(X,Y):\n",
        "  if (type(X) != np.ndarray) or (type(Y) != np.ndarray) or (len(X) != len(Y)):\n",
        "    print('Impossivel calcular')\n",
        "    return None\n",
        "  else:\n",
        "    aux = 0.0\n",
        "    for i in range (len(X)):\n",
        "      aux += (X[i] - Y[i])**2\n",
        "    return aux**0.5\n"
      ],
      "execution_count": 0,
      "outputs": []
    },
    {
      "metadata": {
        "id": "tc8S3G85H6j1",
        "colab_type": "code",
        "outputId": "09774930-657e-4d63-b243-8cbad2786fea",
        "colab": {
          "base_uri": "https://localhost:8080/",
          "height": 68
        }
      },
      "cell_type": "code",
      "source": [
        "A0 = Euclides(A , Centroide0)\n",
        "A1 = Euclides(A , Centroide1)\n",
        "\n",
        "print('Distancia pela minha função:\\nCentroide 0: {}\\nCentroide 1: {}'.format(A0,A1))"
      ],
      "execution_count": 0,
      "outputs": [
        {
          "output_type": "stream",
          "text": [
            "Distancia pela minha função:\n",
            "Centroide 0: 2.0174241001832014\n",
            "Centroide 1: 1.4866068747318506\n"
          ],
          "name": "stdout"
        }
      ]
    },
    {
      "metadata": {
        "id": "Ma3U4Rh3P-Rx",
        "colab_type": "code",
        "outputId": "8fb54856-0401-40b9-f1d0-be1a801bae0a",
        "colab": {
          "base_uri": "https://localhost:8080/",
          "height": 68
        }
      },
      "cell_type": "code",
      "source": [
        "#Array de verificação com respostas tendendo ao máximo à esquerda\n",
        "Esquerda = np.array([0, 1, 1, 1, 1, 1, 0, 0, 0, 1, 0, 0, 0, 1, 1])\n",
        "\n",
        "B0 = Euclides(Esquerda , Centroide0)\n",
        "B1 = Euclides(Esquerda , Centroide1)\n",
        "\n",
        "print('Distancia pela minha função:\\nCentroide 0: {}\\nCentroide 1: {}'.format(B0,B1))\n"
      ],
      "execution_count": 0,
      "outputs": [
        {
          "output_type": "stream",
          "text": [
            "Distancia pela minha função:\n",
            "Centroide 0: 2.4228082879171433\n",
            "Centroide 1: 1.2288205727444508\n"
          ],
          "name": "stdout"
        }
      ]
    },
    {
      "metadata": {
        "id": "Ig2KOR7MQk0l",
        "colab_type": "code",
        "colab": {}
      },
      "cell_type": "code",
      "source": [
        ""
      ],
      "execution_count": 0,
      "outputs": []
    }
  ]
}